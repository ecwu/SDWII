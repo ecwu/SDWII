{
 "cells": [
  {
   "cell_type": "markdown",
   "metadata": {},
   "source": [
    "# Python Basics\n",
    "\n",
    "*<font color=\"grey\">Dr. Dyce Jing ZHAO<br>\n",
    "Computer Science Programme,<br>\n",
    "BNU-HKBU United International College</font>*\n",
    "\n",
    "We have learnt the **C programming language** in the last semester and, now, we are going to introduce Python  by listing their **similarities** and **differences**.\n",
    "\n",
    "*Note: Only the **vital** differences are listed. More details will be introduced in later chapters.*"
   ]
  },
  {
   "cell_type": "markdown",
   "metadata": {},
   "source": [
    "## Mode of Programming\n",
    "\n",
    "### Before running a program, a C programmer has to\n",
    "* write the complete code\n",
    "* compile the code\n",
    "* and generate an executable file\n",
    "\n",
    "\n",
    "### Python offers two modes of programming\n",
    "\n",
    "* **Interactive Mode**: As soon as you input a statement, it is executed.\n",
    "\n",
    "    * **<font color=\"#4286f4\">Task 1</font>**: follow the intructions and run a \"hello world\" example in the Interactive Mode.  \n",
    "    \n",
    "        1. Start a *Command Prompt* and input \"python\". This invokes the interpreter and brings up this:        \n",
    "        ![](img/ch1.cmd.png)\n",
    "        1. Input the following statements in the prompt and observe how they are executed.\n",
    "        \n",
    "        ```python\n",
    "greeting = \"hello\"\n",
    "name = \"world\"\n",
    "print(greeting, name)\n",
    "name = \"Python\"\n",
    "print(greeting, name)\n",
    "```\n",
    "        1. Input exit() to exit programming.\n",
    "\n",
    "    * Question: When would you use this mode?\n",
    "\n",
    "* **Script Mode**: You write the complete code and run it.\n",
    "\n",
    "    * **<font color=\"#4286f4\">Task 2</font>**: follow the intructions and run the \"hello world\" example in the Script Mode.\n",
    "    \n",
    "        1. Input the same Python statements as in Task 1 into a file named \"hello.py\". *Note: All Python files have the extension **.py***.        \n",
    "        1. In the Command Prompt, input the following command to run the Python script.\n",
    "        \n",
    "        ```python hello.py```\n",
    "        \n",
    "         *Note: Know well the location of your file.*\n",
    "         \n",
    "* **\"Class Exercise Mode\"**: The Jupyter project offers online interpretation of Python. You can write Python code in a code cell and run it by hitting **\"Ctrl+Enter\"**.\n",
    "\n",
    "    *Note: This is **NOT** a standard programming mode.*\n",
    "    \n",
    "    * **<font color=\"#4286f4\">Task 3</font>**: In the code cell below, write the Python code which prints the result of `1234*4321`."
   ]
  },
  {
   "cell_type": "code",
   "execution_count": 7,
   "metadata": {},
   "outputs": [],
   "source": [
    "# Code for Task 3\n",
    "\n",
    "\n"
   ]
  },
  {
   "cell_type": "markdown",
   "metadata": {},
   "source": [
    "## Basic Syntax\n",
    "\n",
    "### Some Obvious Differences and Similarities with C ...\n",
    "\n",
    "* In Python, there is no `main()` function.\n",
    "* In Python, a statement does not end with a semicolon (;).\n",
    "* In Python, a comment starts with a sharp (#). A Python comment is always single-lined.\n",
    "* Most operators in Python are the same as in C.\n",
    "\n",
    "### Identifiers and Variables\n",
    "\n",
    "* The naming of identifiers is exactly the same as in C.\n",
    "* In Python, you **don't have to declare** a variable before using it.\n",
    "* In Python, the data type of a variable depends on the value it holds. It may **change** as the value changes.\n",
    "* There is **no pointer** in Python.\n",
    "\n",
    "**<font color=\"#4286f4\">Task 4</font>**: In the code cell below, write the two assignments so that the first `print(x)` prints your name, and the second `print(x)` prints the total age of your family members."
   ]
  },
  {
   "cell_type": "code",
   "execution_count": null,
   "metadata": {},
   "outputs": [],
   "source": [
    "#Insert the first assignment here\n",
    "\n",
    "print(x)\n",
    "#Insert the second assignment here\n",
    "\n",
    "print(x)"
   ]
  },
  {
   "cell_type": "markdown",
   "metadata": {},
   "source": [
    "### Quotation\n",
    "\n",
    "* You can enclose strings using single ('), double (\") or triple (''') quotes.\n",
    "* There is no difference between single and double quotes.\n",
    "* Triple quotes can denote a string across multiple lines.\n",
    "\n",
    "    ```python\n",
    "# All the following are legal\n",
    "greeting = 'Morning'\n",
    "greeting = \"Morning\"\n",
    "greeting = '''Morning Sir,\n",
    "May I help you?'''\n",
    "```\n",
    "\n",
    "**<font color=\"#4286f4\">Task 5</font>**: In the cell below, write the Python code which prints: `Never say \"never\".`"
   ]
  },
  {
   "cell_type": "code",
   "execution_count": null,
   "metadata": {},
   "outputs": [],
   "source": [
    "# Code for Task 5\n",
    "\n"
   ]
  },
  {
   "cell_type": "markdown",
   "metadata": {},
   "source": [
    "### Reserved Words\n",
    "\n",
    "Python has a smaller set of keywords than C does. All the python keywords, as shown below, contain only lowercase letters.\n",
    "\n",
    "||||||\n",
    "|:---:|:---:|:---:|:---:|:---: |:---: |\n",
    "| and | exec | not | as | finally | or | assert |\n",
    "| for | pass | break |from | print | class | global |\n",
    "| raise | continue | if | return | def | import |try |\n",
    "| del | in | while | elif |is | with | else |\n",
    "| lambda | yield |except ||||||\n",
    "\n",
    "**<font color=\"#4286f4\">Task 6</font>**: We don't have this keyword \"**is**\" in C. What is it? Search on the internet and, in the cell below, write some Python code which uses \"is\"."
   ]
  },
  {
   "cell_type": "code",
   "execution_count": 12,
   "metadata": {},
   "outputs": [],
   "source": [
    "# Code for Task 6\n",
    "\n"
   ]
  },
  {
   "cell_type": "markdown",
   "metadata": {},
   "source": [
    "### Lines and Indentation\n",
    "\n",
    "Python does not use braces ({}) to indicate blocks of code. Code blocks are denoted by line indentation and this is rigidly enforced. ***Wrong indentation will cause error!***\n",
    "\n",
    "A code block starts with indentation and ends with the first unindented line. \n",
    "Generally *four whitespaces* are used for indentation. In a Jupyter notebook, you may press \"tab\" to input four whitespaces."
   ]
  },
  {
   "cell_type": "code",
   "execution_count": 1,
   "metadata": {},
   "outputs": [
    {
     "name": "stdout",
     "output_type": "stream",
     "text": [
      "1\n",
      "2\n",
      "3\n",
      "4\n",
      "5\n",
      "5 is enough.\n",
      "Good bye.\n"
     ]
    }
   ],
   "source": [
    "# Example of correct indentation\n",
    "\n",
    "for i in range(1,11):\n",
    "    print(i)\n",
    "    if i == 5:\n",
    "        print(\"5 is enough.\")\n",
    "        break\n",
    "        \n",
    "print(\"Good bye.\")        "
   ]
  },
  {
   "cell_type": "markdown",
   "metadata": {},
   "source": [
    "**<font color=\"#4286f4\">Task 7</font>**: The following code contains multiple indentation errors. Fix them and observe what the program does."
   ]
  },
  {
   "cell_type": "code",
   "execution_count": 2,
   "metadata": {},
   "outputs": [
    {
     "ename": "IndentationError",
     "evalue": "expected an indented block (<ipython-input-2-aae6a73d7758>, line 4)",
     "output_type": "error",
     "traceback": [
      "\u001b[0;36m  File \u001b[0;32m\"<ipython-input-2-aae6a73d7758>\"\u001b[0;36m, line \u001b[0;32m4\u001b[0m\n\u001b[0;31m    sum = 0\u001b[0m\n\u001b[0m      ^\u001b[0m\n\u001b[0;31mIndentationError\u001b[0m\u001b[0;31m:\u001b[0m expected an indented block\n"
     ]
    }
   ],
   "source": [
    "# Code for Task 7\n",
    "\n",
    "def fact(j):\n",
    "sum = 0\n",
    "if j == 0:\n",
    "sum = 1\n",
    "else:\n",
    "sum = j * fact(j - 1)\n",
    "return sum\n",
    " \n",
    "for i in range(5):\n",
    "print ('%d! = %d' % (i,fact(i)))"
   ]
  },
  {
   "cell_type": "markdown",
   "metadata": {},
   "source": [
    "## Basic IO\n",
    "\n",
    "Till now, we have used the `print()` function for *output* for plenty of times. For *input*, we have the `input()` function, and its syntax is:\n",
    "```\n",
    "input([prompt])\n",
    "```\n",
    "\n",
    "`prompt` is a string which can be printed on the screen. This parameter is *optional*. Below is an example."
   ]
  },
  {
   "cell_type": "code",
   "execution_count": 3,
   "metadata": {},
   "outputs": [
    {
     "name": "stdout",
     "output_type": "stream",
     "text": [
      "What is your name? jj\n",
      "jj is a good name :)\n"
     ]
    }
   ],
   "source": [
    "name = input(\"What is your name? \")\n",
    "print(name, \"is a good name :)\")"
   ]
  },
  {
   "cell_type": "markdown",
   "metadata": {},
   "source": [
    "The returned value for `input()` is always a string, but you can use functions such as `int()` or `float()` to convert it to other data types. The following shows the reading of a float."
   ]
  },
  {
   "cell_type": "code",
   "execution_count": 12,
   "metadata": {},
   "outputs": [
    {
     "name": "stdout",
     "output_type": "stream",
     "text": [
      "Please input a float: 999.7\n",
      "999.700000 * 999.700000 = 999400.090000\n"
     ]
    }
   ],
   "source": [
    "# Read in a float and display its squared power\n",
    "\n",
    "v = input(\"Please input a float: \")\n",
    "v = float(v)\n",
    "print(\"%f * %f = %f\" % (v, v, v*v))"
   ]
  },
  {
   "cell_type": "markdown",
   "metadata": {},
   "source": [
    "**<font color=\"#4286f4\">Task 8</font>**: Write the code which\n",
    "\n",
    "* Requires the user to input a positive integer, $i$\n",
    "* Prints all the positive integers which divides $i$."
   ]
  },
  {
   "cell_type": "code",
   "execution_count": null,
   "metadata": {},
   "outputs": [],
   "source": [
    "# Code for Task 8\n",
    "\n"
   ]
  }
 ],
 "metadata": {
  "kernelspec": {
   "display_name": "Python 3",
   "language": "python",
   "name": "python3"
  },
  "language_info": {
   "codemirror_mode": {
    "name": "ipython",
    "version": 3
   },
   "file_extension": ".py",
   "mimetype": "text/x-python",
   "name": "python",
   "nbconvert_exporter": "python",
   "pygments_lexer": "ipython3",
   "version": "3.6.3"
  }
 },
 "nbformat": 4,
 "nbformat_minor": 2
}
